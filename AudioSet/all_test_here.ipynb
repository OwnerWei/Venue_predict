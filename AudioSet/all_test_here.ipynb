{
 "cells": [
  {
   "cell_type": "code",
   "execution_count": 10,
   "metadata": {},
   "outputs": [],
   "source": [
    "import csv\n",
    "import itertools\n",
    "import numpy as np"
   ]
  },
  {
   "cell_type": "code",
   "execution_count": 2,
   "metadata": {},
   "outputs": [],
   "source": [
    "class wav_label_process:\n",
    "    def gen_labels_all():\n",
    "        label_reader = csv.reader(open('/home/wei/TestData/AudioSet/class_labels_indices.csv','r'))\n",
    "        labels = []\n",
    "        for row in label_reader:\n",
    "            labels.append(row)\n",
    "        dict_label_num = {}\n",
    "        dict_label_class = {}\n",
    "        for l in labels[1:]:\n",
    "            dict_label_class[l[1]] = l[2]\n",
    "            dict_label_num[l[1]] = l[0]\n",
    "        return dict_label_class, dict_label_num\n",
    "\n",
    "    def get_wav_label():\n",
    "        dict_label_class, dict_label_num = gen_labels_all()\n",
    "        reader = csv.reader(open('/home/wei/TestData/AudioSet/balanced_train_segments_2.csv','r'))\n",
    "        data = []\n",
    "        row_dict = {}\n",
    "        reader.next()\n",
    "        reader.next()\n",
    "        reader.next()\n",
    "        wav_id = 1\n",
    "        for row in reader:\n",
    "            class_str = str()\n",
    "            for r in row[3:]:\n",
    "                class_str = class_str+r+','\n",
    "            label_str = class_str[2:-2]\n",
    "            label_list_str = label_str.split(',')\n",
    "            label_class = []\n",
    "            label_num = []\n",
    "            for label in label_list_str:\n",
    "                label_class.append(dict_label_class[label])\n",
    "                label_num.append(dict_label_num[label])\n",
    "            wav_name = '%s_%s'%(wav_id,row[0])\n",
    "            row_dict[wav_name] = [label_class,label_num]\n",
    "            wav_id += 1\n",
    "        return row_dict\n",
    "\n",
    "    def gen_one_hot_label(labels, label_num):\n",
    "        nums = len(label_num)\n",
    "        print nums\n",
    "        one_hot_label = np.zeros(nums,dtype=np.int16)\n",
    "        for label in labels:\n",
    "            position = label_num[label]\n",
    "            print position\n",
    "            one_hot_label[int(position)] = 1\n",
    "        return one_hot_label"
   ]
  },
  {
   "cell_type": "code",
   "execution_count": 35,
   "metadata": {},
   "outputs": [
    {
     "name": "stdout",
     "output_type": "stream",
     "text": [
      "527\n",
      "95\n",
      "137\n",
      "0\n"
     ]
    }
   ],
   "source": [
    "labels = ['/m/03fwl','/m/04rlf','/m/09x0r']\n",
    "_, label_num = gen_labels_all()\n",
    "one_hot = gen_one_hot_label(labels, label_num)"
   ]
  }
 ],
 "metadata": {
  "kernelspec": {
   "display_name": "Python 2",
   "language": "python",
   "name": "python2"
  },
  "language_info": {
   "codemirror_mode": {
    "name": "ipython",
    "version": 2
   },
   "file_extension": ".py",
   "mimetype": "text/x-python",
   "name": "python",
   "nbconvert_exporter": "python",
   "pygments_lexer": "ipython2",
   "version": "2.7.12+"
  }
 },
 "nbformat": 4,
 "nbformat_minor": 2
}
