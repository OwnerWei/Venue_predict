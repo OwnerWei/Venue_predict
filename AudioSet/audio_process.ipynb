{
 "cells": [
  {
   "cell_type": "code",
   "execution_count": null,
   "metadata": {
    "collapsed": true
   },
   "outputs": [],
   "source": [
    "import glob\n",
    "import os\n",
    "import numpy as np\n",
    "import matplotlib.pyplot as plt\n",
    "from matplotlib.pyplot import specgram\n",
    "import csv\n",
    "import sys\n",
    "import itertools\n",
    "import sklearn\n",
    "import librosa\n",
    "import wave\n",
    "import scipy.signal as signal\n",
    "import pandas as pd"
   ]
  },
  {
   "cell_type": "code",
   "execution_count": null,
   "metadata": {
    "collapsed": true
   },
   "outputs": [],
   "source": [
    "def enframe(signal, nw, inc, winfunc):\n",
    "    signal_length = len(signal)\n",
    "    print signal_length\n",
    "    nf = int(np.ceil((1.0*signal_length-nw+inc)/inc))\n",
    "    nf = signal_length/inc\n",
    "    #pad_length = int((nf-1)*inc+nw)\n",
    "    #zeros = np.zeros((pad_length-signal_length,))\n",
    "    #pad_signal = np.concatenate((signal, zeros))\n",
    "    indices = np.tile(np.arange(0,nw),(nf,1))+np.tile(np.arange(0,nf*inc,inc),(nw,1)).T\n",
    "    indices = np.array(indices, dtype=np.int32)\n",
    "    frames = signal[indices]\n",
    "    win = np.tile(winfunc, (nf,1))\n",
    "    return frames*win"
   ]
  },
  {
   "cell_type": "code",
   "execution_count": null,
   "metadata": {
    "collapsed": true
   },
   "outputs": [],
   "source": [
    "def process_wav(filename):\n",
    "    #open the radio\n",
    "    label = get_label(filename)\n",
    "    f_wav = wave.open('/home/wei/TestData/Wav/'+filename,'rb')\n",
    "    params = f_wav.getparams()\n",
    "    nchannels, sampwidth, framerate, nframes = params[:4]\n",
    "    strData = f_wav.readframes(nframes)\n",
    "    wavData = np.fromstring(strData, dtype=np.int16)\n",
    "    f_wav.close()\n",
    "    wavData = wavData*1.0/(max(abs(wavData)))\n",
    "    wavData = np.reshape(wavData, [nframes, nchannels]).T\n",
    "    winfunc = signal.hamming(21605)\n",
    "    Frame = enframe(wavData[0], 21605, 22505, winfunc)\n",
    "    for frame in Frame:\n",
    "        mel = librosa.feature.melspectrogram(frame, n_fft=563, hop_length=225).T"
   ]
  },
  {
   "cell_type": "code",
   "execution_count": null,
   "metadata": {
    "collapsed": true
   },
   "outputs": [],
   "source": [
    "f_wav = wave.open('/home/wei/TestData/1002.wav','rb')\n",
    "\n",
    "params = f_wav.getparams()\n",
    "nchannels, sampwidth, framerate, nframes = params[:4]\n",
    "\n",
    "strData = f_wav.readframes(nframes)\n",
    "wavData = np.fromstring(strData, dtype=np.int16)\n",
    "f_wav.close()\n",
    "wavData = wavData*1.0/(max(abs(wavData)))\n",
    "wavData = np.reshape(wavData, [nframes, nchannels]).T\n",
    "\n",
    "winfunc = signal.hamming(21605)\n",
    "Frame = enframe(wavData[0], 21605, 22505, winfunc)\n",
    "\n",
    "mel = librosa.feature.melspectrogram(Frame[5], n_fft=563, hop_length=225).T\n",
    "print type(mel)"
   ]
  }
 ],
 "metadata": {
  "kernelspec": {
   "display_name": "Python 2",
   "language": "python",
   "name": "python2"
  },
  "language_info": {
   "codemirror_mode": {
    "name": "ipython",
    "version": 2
   },
   "file_extension": ".py",
   "mimetype": "text/x-python",
   "name": "python",
   "nbconvert_exporter": "python",
   "pygments_lexer": "ipython2",
   "version": "2.7.12+"
  }
 },
 "nbformat": 4,
 "nbformat_minor": 2
}
